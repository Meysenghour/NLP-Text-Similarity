{
 "cells": [
  {
   "cell_type": "code",
   "execution_count": null,
   "metadata": {},
   "outputs": [],
   "source": [
    "from flask import Flask, request, jsonify\n",
    "from content_based_recommender import ContentBasedRecommender\n",
    "\n",
    "app = Flask(__name__)\n",
    "\n",
    "# Initialize the recommender\n",
    "data_path = 'cleaned_Kiripost_data_110324.csv'\n",
    "recommender = ContentBasedRecommender(data_path)\n",
    "recommender.train_classifier()  # Optionally, you can train the classifier here\n",
    "\n",
    "@app.route('/recommend', methods=['POST'])\n",
    "def recommend():\n",
    "    # Get the input text from the request\n",
    "    input_text = request.json.get('input_text')\n",
    "    \n",
    "    # Get the number of recommendations (optional, default is 5)\n",
    "    num_recommendations = request.json.get('num_recommendations', 5)\n",
    "    \n",
    "    # Get recommendations\n",
    "    recommended_articles = recommender.recommend_articles(input_text, num_recommendations)\n",
    "    \n",
    "    # Convert recommendations to JSON and return\n",
    "    return jsonify(recommended_articles.to_dict(orient='records'))\n",
    "\n",
    "if __name__ == '__main__':\n",
    "    app.run(debug=True)\n"
   ]
  }
 ],
 "metadata": {
  "kernelspec": {
   "display_name": "tf",
   "language": "python",
   "name": "python3"
  },
  "language_info": {
   "codemirror_mode": {
    "name": "ipython",
    "version": 3
   },
   "file_extension": ".py",
   "mimetype": "text/x-python",
   "name": "python",
   "nbconvert_exporter": "python",
   "pygments_lexer": "ipython3",
   "version": "3.9.18"
  }
 },
 "nbformat": 4,
 "nbformat_minor": 2
}
