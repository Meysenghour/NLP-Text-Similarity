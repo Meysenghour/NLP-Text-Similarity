{
 "cells": [
  {
   "cell_type": "code",
   "execution_count": 1,
   "metadata": {},
   "outputs": [],
   "source": [
    "import pandas as pd\n",
    "import re\n",
    "from html import unescape\n",
    "\n",
    "# Read the CSV file into a pandas DataFrame\n",
    "df = pd.read_csv(\"bq-results-20240321-040025-1710994934414.csv\")\n",
    "\n",
    "# Function to clean text by removing HTML tags, HTML entities, and all symbols\n",
    "def clean_text(text):\n",
    "    if isinstance(text, str):\n",
    "        # Remove HTML tags\n",
    "        clean_html = re.compile('<.*?>')\n",
    "        text = re.sub(clean_html, '', text)\n",
    "        # Decode HTML entities\n",
    "        text = unescape(text)\n",
    "        # Remove all symbols\n",
    "        clean_symbols = re.sub(r'[^\\w\\s]|&#[^\\s]*;?', '', text)\n",
    "        return clean_symbols\n",
    "    else:\n",
    "        return text\n",
    "\n",
    "# Apply the function to the 'body', 'title', 'url_path', and 'intro' columns\n",
    "df['body'] = df['body'].apply(clean_text)\n",
    "df['title'] = df['title'].apply(clean_text)\n",
    "df['intro'] = df['intro'].apply(clean_text)\n",
    "\n",
    "# Remove unnamed columns\n",
    "df = df.loc[:, ~df.columns.str.contains('^Unnamed')]\n",
    "\n",
    "# Save the DataFrame back to a CSV file if needed\n",
    "df.to_csv(\"clean_article_210324.csv\", index=False)\n"
   ]
  }
 ],
 "metadata": {
  "kernelspec": {
   "display_name": "tf",
   "language": "python",
   "name": "python3"
  },
  "language_info": {
   "codemirror_mode": {
    "name": "ipython",
    "version": 3
   },
   "file_extension": ".py",
   "mimetype": "text/x-python",
   "name": "python",
   "nbconvert_exporter": "python",
   "pygments_lexer": "ipython3",
   "version": "3.9.18"
  }
 },
 "nbformat": 4,
 "nbformat_minor": 2
}
